{
 "cells": [
  {
   "cell_type": "code",
   "execution_count": 12,
   "metadata": {},
   "outputs": [
    {
     "name": "stdout",
     "output_type": "stream",
     "text": [
      "Read DMNAO NAOAO matrixs in nbofile OK!\n"
     ]
    }
   ],
   "source": [
    "%run testify.py"
   ]
  },
  {
   "cell_type": "code",
   "execution_count": 13,
   "metadata": {},
   "outputs": [],
   "source": [
    "np.set_printoptions(precision=4, suppress=True)"
   ]
  },
  {
   "cell_type": "code",
   "execution_count": 14,
   "metadata": {},
   "outputs": [],
   "source": [
    "def fun(DMNAO):\n",
    "    DUMMY=DMNAO.copy()\n",
    "    DUMMY*=0.0\n",
    "    DUMMY[:19,:19]=DMNAO[:19,:19].copy()\n",
    "    val,vec=np.linalg.eig(DUMMY)\n",
    "    val,vec=np.real(val),np.real(vec)\n",
    "    imax=np.argmax(val)\n",
    "    vmax=val[imax]\n",
    "    vector=vec[:,imax]\n",
    "    print(\"vmax=\",vmax)\n",
    "    DMNAO-=vmax*np.outer(vector,vector)\n",
    "    print(\"trace=\",DMNAO.trace())\n",
    "    np.set_printoptions(precision=4, suppress=True)\n",
    "    print([DMNAO[i,i] for i in range(19)])"
   ]
  },
  {
   "cell_type": "code",
   "execution_count": 24,
   "metadata": {},
   "outputs": [
    {
     "name": "stdout",
     "output_type": "stream",
     "text": [
      "vmax= 1.1923742099220855e-15\n",
      "trace= 1.5855796995778346\n",
      "[-3.96069114528802e-14, -6.243381127535541e-10, -1.0661735986434024e-06, -8.643593549268608e-06, -1.654437827796609e-06, -8.4474427453714e-10, -2.2049093690647614e-06, -1.7999260155614034e-07, -8.447442745374615e-10, -2.2049093690650274e-06, -1.79992601556167e-07, -7.873117999919487e-10, -2.294523561045971e-05, -1.8196425272492622e-06, 0.0, -3.871840851252817e-05, -3.8718408512526626e-05, -0.0, -1.9616169077577883e-06]\n"
     ]
    }
   ],
   "source": [
    "fun(DMNAO)"
   ]
  },
  {
   "cell_type": "code",
   "execution_count": 46,
   "metadata": {},
   "outputs": [],
   "source": [
    "def BlockDMNAO(DMNAO,CBl):\n",
    "    \n",
    "    DUMMY = np.zeros(DMNAO.shape,dtype=np.float64)\n",
    "    n1 = 0\n",
    "    n2 = 7\n",
    "    DUMMY[n1:n2,n1:n2]=DMNAO[n1:n2,n1:n2]\n",
    "    n1 = 7\n",
    "    n2 = 10\n",
    "    DUMMY[n1:n2,n1:n2]=DMNAO[n1:n2,n1:n2]\n",
    "    \n",
    "    return DUMMY"
   ]
  },
  {
   "cell_type": "code",
   "execution_count": 47,
   "metadata": {},
   "outputs": [],
   "source": [
    "CBl=[1]"
   ]
  },
  {
   "cell_type": "code",
   "execution_count": 48,
   "metadata": {},
   "outputs": [],
   "source": [
    "X=np.ones((10,10))"
   ]
  },
  {
   "cell_type": "code",
   "execution_count": 49,
   "metadata": {},
   "outputs": [
    {
     "data": {
      "text/plain": [
       "array([[1., 1., 1., 1., 1., 1., 1., 0., 0., 0.],\n",
       "       [1., 1., 1., 1., 1., 1., 1., 0., 0., 0.],\n",
       "       [1., 1., 1., 1., 1., 1., 1., 0., 0., 0.],\n",
       "       [1., 1., 1., 1., 1., 1., 1., 0., 0., 0.],\n",
       "       [1., 1., 1., 1., 1., 1., 1., 0., 0., 0.],\n",
       "       [1., 1., 1., 1., 1., 1., 1., 0., 0., 0.],\n",
       "       [1., 1., 1., 1., 1., 1., 1., 0., 0., 0.],\n",
       "       [0., 0., 0., 0., 0., 0., 0., 1., 1., 1.],\n",
       "       [0., 0., 0., 0., 0., 0., 0., 1., 1., 1.],\n",
       "       [0., 0., 0., 0., 0., 0., 0., 1., 1., 1.]])"
      ]
     },
     "execution_count": 49,
     "metadata": {},
     "output_type": "execute_result"
    }
   ],
   "source": [
    "BlockDMNAO(X,CBl)"
   ]
  },
  {
   "cell_type": "code",
   "execution_count": null,
   "metadata": {},
   "outputs": [],
   "source": []
  }
 ],
 "metadata": {
  "kernelspec": {
   "display_name": "Python 3",
   "language": "python",
   "name": "python3"
  },
  "language_info": {
   "codemirror_mode": {
    "name": "ipython",
    "version": 3
   },
   "file_extension": ".py",
   "mimetype": "text/x-python",
   "name": "python",
   "nbconvert_exporter": "python",
   "pygments_lexer": "ipython3",
   "version": "3.7.4"
  },
  "toc": {
   "base_numbering": 1,
   "nav_menu": {},
   "number_sections": true,
   "sideBar": true,
   "skip_h1_title": false,
   "title_cell": "Table of Contents",
   "title_sidebar": "Contents",
   "toc_cell": false,
   "toc_position": {},
   "toc_section_display": true,
   "toc_window_display": false
  },
  "varInspector": {
   "cols": {
    "lenName": 16,
    "lenType": 16,
    "lenVar": 40
   },
   "kernels_config": {
    "python": {
     "delete_cmd_postfix": "",
     "delete_cmd_prefix": "del ",
     "library": "var_list.py",
     "varRefreshCmd": "print(var_dic_list())"
    },
    "r": {
     "delete_cmd_postfix": ") ",
     "delete_cmd_prefix": "rm(",
     "library": "var_list.r",
     "varRefreshCmd": "cat(var_dic_list()) "
    }
   },
   "types_to_exclude": [
    "module",
    "function",
    "builtin_function_or_method",
    "instance",
    "_Feature"
   ],
   "window_display": false
  }
 },
 "nbformat": 4,
 "nbformat_minor": 2
}
